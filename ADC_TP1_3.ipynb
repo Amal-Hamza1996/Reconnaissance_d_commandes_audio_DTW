{
 "cells": [
  {
   "cell_type": "markdown",
   "metadata": {
    "colab_type": "text",
    "id": "Bp1izKQgg4go"
   },
   "source": [
    "#  Analyse de Données & Classification 2  \n",
    "\n",
    "## TP 1 à 3  : Reconnaissance de commandes audio par programmation dynamique (DTW)\n",
    "\n",
    "\n",
    "**Nom :*AMAL*\n",
    "\n",
    "**Prénom :*Hamza*\n",
    "\n",
    "**Nom du binôme :*AMAL-Charko*\n",
    "\n",
    "Ces trois séances de TP vont vous permettre de tester l'algorithme de programmation dynamique vu en CTD puis de réaliser la mise en oeuvre d'un système de reconnaissance audio de mots isolés (constituant des\n",
    "commandes pour les drones).\n",
    "\n",
    "\n",
    "\n",
    "Ces séances se décomposent en 3 parties : \n",
    "- Partie I : DTW et application du TD\n",
    "- Partie II : Système de reconnaissance audio de mots de commande\n",
    "- Partie III : Comparaison de la programmation dynamique avec une méthode de classification après prétraitement des données\n",
    "\n",
    "Pour les **parties II et III**, vous testerez le système de reconnaissance audio sur deux corpus de voix qui serviront respectivement de base d'apprentissage (références) et de base de test (sons à reconnaître) que vous choisirez. La liste des 13 commandes au drone sont : *Atterrissage, Décollage, Avance, Tourne droite, Recule, Tourne gauche, Droite, Fais un flip, Gauche, Arrête toi, plus haut, plus bas et Etat d'urgence.*\n",
    "\n",
    "\n",
    "## Travail à réaliser\n",
    "Par binôme (uniquement), \n",
    "1. **Proposer une étude** que vous détaillerez sur un rapport\n",
    "[par exemple, *influence voix masculines VS voix féminines, confronter vos propres voix à la base de données, tester l'impact de différents bruits de fond sur la reconnaissance...*];\n",
    "2. Créer, en fonction de l'objectif de votre étude, vos propres base d'apprentissage et base de test à partir du corpus proposé et des voix et bruits que vous aurez enregistrés [*paramètres audio : 16 KHz, mono, 16 bits, format *.wav**];\n",
    "3. Tester la DTW et une méthode de classification avec prétraitement par ACP;\n",
    "4. Evaluer les résultats; \n",
    "5. Rédiger un rapport en pdf présentant l'étude, les résultats par les 2 méthodes et vos commentaires et conclusions sur votre étude (Longueur max. : 5 pages)."
   ]
  },
  {
   "cell_type": "code",
   "execution_count": 0,
   "metadata": {
    "colab": {},
    "colab_type": "code",
    "id": "hAKOKn9Zg4gr"
   },
   "outputs": [],
   "source": [
    "import matplotlib.pyplot as plt\n",
    "from numpy import array, zeros, full, argmin, inf, ndim\n",
    "import scipy\n",
    "import sklearn\n",
    "import math"
   ]
  },
  {
   "cell_type": "markdown",
   "metadata": {
    "colab_type": "text",
    "id": "pKmGU6qrg4gv"
   },
   "source": [
    "# Partie I : Implémentation de l'algorithme de programmation dynamique \n"
   ]
  },
  {
   "cell_type": "markdown",
   "metadata": {
    "colab_type": "text",
    "id": "ZXik5BiXg4gw"
   },
   "source": [
    "1. Ecrivez une fonction en python DTW qui implémente le calcul et l'affichage de la matrice des coûts définie en CTD. \n",
    "\n",
    "2. Afin d'adapter facilement le calcul des coûts suivant la nature des données (et donc des distances utilisées), écrivez une fonction pour chaque distance (euclidienne, lettres, sons) qui apparaîtra en paramètre de la fonction DTW."
   ]
  },
  {
   "cell_type": "code",
   "execution_count": 0,
   "metadata": {
    "colab": {},
    "colab_type": "code",
    "id": "wuTttejlg4gx"
   },
   "outputs": [],
   "source": [
    "\n",
    "# Définition des distances\n",
    "import numpy as np\n",
    "def d_euclidienne(x, y):\n",
    "    return abs(x-y)\n",
    "\n",
    "def d_mot(x, y):\n",
    "    if x == y:\n",
    "        return 0\n",
    "    else:\n",
    "        return 1\n",
    "def d_vecteur(x, y):\n",
    "  return( np.linalg.norm(x-y))\n",
    "\n",
    "def DTW(I,J,w0,w1,w2,distance):\n",
    "    n = len(I) \n",
    "    p = len(J)\n",
    "    g = zeros((n+1,p+1))\n",
    "    g[0,0] = 0\n",
    "    for j in range (1,p+1):\n",
    "        g[0,j] = inf;\n",
    "    for i in range(1,n+1):\n",
    "        g[i,0] = inf;\n",
    "        for j in range(1,p+1):\n",
    "            # recherche du chemin minimal\n",
    "            d = distance(I[i-1],J[j-1])\n",
    "            g[i,j] = min(g[i-1,j]+w0*d, g[i-1,j-1]+w1*d, g[i,j-1]+w2*d)\n",
    "\n",
    "    score = g[n,p]/(n+p)\n",
    "    return [g, score]\n",
    "    \n",
    "\n",
    "\n"
   ]
  },
  {
   "cell_type": "code",
   "execution_count": 0,
   "metadata": {
    "colab": {},
    "colab_type": "code",
    "id": "666VLQFk_oGu"
   },
   "outputs": [],
   "source": [
    "def chemin(g):\n",
    "  n,p = g.shape\n",
    "  chemin = [[n-1,p-1]]\n",
    "  i = n-1\n",
    "  j = p-1\n",
    "  while i>0 and j>0:\n",
    "    if i==0:\n",
    "      j = j-1\n",
    "    elif j==0:\n",
    "      i = i-1\n",
    "    else:\n",
    "      if g[i-1, j] == min(g[i-1, j-1], g[i-1, j], g[i, j-1]):\n",
    "        i = i-1\n",
    "      elif g[i, j-1] == min(g[i-1, j-1], g[i-1, j], g[i, j-1]):\n",
    "        j = j-1\n",
    "      else:\n",
    "        i = i-1\n",
    "        j = j-1\n",
    "    chemin.append([j, i])\n",
    "  #chemin.append([0, 0])\n",
    "  return chemin"
   ]
  },
  {
   "cell_type": "code",
   "execution_count": 0,
   "metadata": {
    "colab": {},
    "colab_type": "code",
    "id": "iHGLw5OmC-_3"
   },
   "outputs": [],
   "source": []
  },
  {
   "cell_type": "markdown",
   "metadata": {
    "colab_type": "text",
    "id": "rV4WVfydg4g0"
   },
   "source": [
    "### Application aux exercices \n",
    "\n",
    "1. Testez vos programmes sur les exercices vus en TD. \n",
    "\n",
    "2. Modifiez les contraintes locales c'est-à-dire les pondérations suivant les directions. \n",
    "\n",
    "3. Ajoutez la prise en compte de contraintes globales c'est-à-dire le non calcul lorsque les cases sont trop éloignées de la diagonale (cf exercice TD séquence ADN). A partir de quelle position les contraintes globales ne changent pas les résultats ?"
   ]
  },
  {
   "cell_type": "code",
   "execution_count": 10,
   "metadata": {
    "colab": {
     "base_uri": "https://localhost:8080/",
     "height": 286
    },
    "colab_type": "code",
    "id": "fAKVD42fg4g1",
    "outputId": "c8725a96-f927-4b3d-dc77-23dee8badf8e"
   },
   "outputs": [
    {
     "name": "stdout",
     "output_type": "stream",
     "text": [
      "********** Exemple 1**********\n",
      "La matrice du coût est: \n",
      "[[  0.  inf  inf  inf  inf  inf  inf]\n",
      " [ inf   5.  16.  32.  37.  48.  48.]\n",
      " [ inf  12.  28.  20.  37.  38.  50.]\n",
      " [ inf  25.  15.  39.  23.  42.  46.]\n",
      " [ inf  37.  43.  16.  38.  29.  46.]\n",
      " [ inf  53.  37.  43.  22.  44.  40.]\n",
      " [ inf  70.  70.  43.  49.  33.  55.]\n",
      " [ inf  78.  78.  62.  45.  47.  36.]\n",
      " [ inf  89. 105.  62.  66.  50.  52.]\n",
      " [ inf  90. 104.  74.  71.  57.  54.]]\n",
      "Le score est: \n",
      "3.6\n",
      "le chemin est:\n",
      "[[9, 6], [5, 8], [4, 7], [3, 6], [2, 5], [1, 4], [1, 3], [1, 2], [1, 1], [0, 0]]\n"
     ]
    }
   ],
   "source": [
    "I= [-2,10,-10,15,-13,20,-5,14,2]\n",
    "J= [3,-13,14,-7,9,-2]\n",
    "\n",
    "print(\"********** Exemple 1**********\")\n",
    "[A,score_1] = DTW(I,J,1,1,1,d_euclidienne)\n",
    "print(\"La matrice du coût est: \")\n",
    "print(A)\n",
    "print(\"Le score est: \")\n",
    "print(score_1)\n",
    "path = chemin(A)\n",
    "print(\"le chemin est:\")\n",
    "print(path)\n",
    "\n",
    "\n"
   ]
  },
  {
   "cell_type": "code",
   "execution_count": 11,
   "metadata": {
    "colab": {
     "base_uri": "https://localhost:8080/",
     "height": 269
    },
    "colab_type": "code",
    "id": "6Jq-LL-1Ev8o",
    "outputId": "62f8373c-0ef8-45f0-9567-60a9507bca24"
   },
   "outputs": [
    {
     "name": "stdout",
     "output_type": "stream",
     "text": [
      "********** Exemple 2**********\n",
      "La matrice du coût est : \n",
      "[[ 0. inf inf inf inf inf inf inf inf inf inf]\n",
      " [inf  0.  1.  2.  3.  4.  4.  5.  6.  7.  8.]\n",
      " [inf  0.  1.  2.  3.  4.  4.  5.  6.  7.  8.]\n",
      " [inf  1.  2.  1.  1.  2.  3.  4.  4.  5.  6.]\n",
      " [inf  2.  1.  2.  2.  1.  2.  3.  4.  4.  5.]\n",
      " [inf  2.  2.  3.  3.  2.  1.  2.  3.  4.  5.]\n",
      " [inf  3.  3.  2.  2.  3.  2.  3.  2.  3.  4.]\n",
      " [inf  4.  4.  2.  2.  3.  3.  4.  2.  3.  4.]\n",
      " [inf  5.  5.  3.  3.  4.  4.  3.  3.  4.  3.]]\n",
      "le score est:\n",
      "0.16666666666666666\n",
      "le chemin est:\n",
      "[[8, 10], [9, 7], [8, 7], [8, 6], [7, 5], [6, 5], [5, 4], [4, 3], [3, 3], [2, 2], [1, 2], [1, 1], [0, 0]]\n"
     ]
    }
   ],
   "source": [
    "mot1 = \"ATGGTACGTC\"\n",
    "mot2 = \"AAGTAGGC\"\n",
    "\n",
    "print(\"********** Exemple 2**********\")\n",
    "[C,score_2] = DTW(mot2,mot1,1,2,1,d_mot)\n",
    "print(\"La matrice du coût est : \")\n",
    "print(C)\n",
    "print(\"le score est:\")\n",
    "print(score_2)\n",
    "\n",
    "path = chemin(C)\n",
    "print(\"le chemin est:\")\n",
    "print(path)\n"
   ]
  },
  {
   "cell_type": "code",
   "execution_count": 0,
   "metadata": {
    "colab": {},
    "colab_type": "code",
    "id": "Rxz1LKq5g4g5"
   },
   "outputs": [],
   "source": [
    "# La contrainte globale.\n",
    "# on met inf dans les cases dont s'appliquent les contraintes globales.\n",
    "\n",
    "\n",
    "def DTW_contrainte_globale(I,J,w0,w1,w2,bande,distance):\n",
    "    n = len(I) \n",
    "    p = len(J)\n",
    "    g = zeros((n+1,p+1))\n",
    "    g[0,0] = 0\n",
    "    for j in range (1,p+1):\n",
    "        g[0,j] = inf;\n",
    "    for i in range(1,n+1):\n",
    "        g[i,0] = inf;\n",
    "        for j in range(1,p+1):\n",
    "            if j >= max(1,i-bande) and j<= min(i+bande,p+1): \n",
    "                d = distance(I[i-1],J[j-1])\n",
    "                g[i,j] = min(g[i-1,j]+w0*d, g[i-1,j-1]+w1*d, g[i,j-1]+w2*d)\n",
    "            else:\n",
    "                g[i,j] = inf\n",
    "        \n",
    "        \n",
    "        \n",
    "    score = g[n,p]/(n+p)\n",
    "    return [g, score]\n",
    "\n",
    "    \n",
    "\n"
   ]
  },
  {
   "cell_type": "code",
   "execution_count": 230,
   "metadata": {
    "colab": {
     "base_uri": "https://localhost:8080/",
     "height": 218
    },
    "colab_type": "code",
    "id": "wrn0G5seg4g7",
    "outputId": "160c5333-66f9-45d2-86e0-db6a688c9351"
   },
   "outputs": [
    {
     "name": "stdout",
     "output_type": "stream",
     "text": [
      "La matrice du coût est: \n",
      "[[ 0. inf inf inf inf inf inf inf inf inf inf]\n",
      " [inf  0.  1.  2.  3.  4. inf inf inf inf inf]\n",
      " [inf  0.  1.  2.  3.  4.  4. inf inf inf inf]\n",
      " [inf  1.  1.  1.  1.  2.  3.  4. inf inf inf]\n",
      " [inf  2.  1.  2.  2.  1.  2.  3.  4. inf inf]\n",
      " [inf  2.  2.  2.  3.  2.  1.  2.  3.  4. inf]\n",
      " [inf inf  3.  2.  2.  3.  2.  2.  2.  3.  4.]\n",
      " [inf inf inf  2.  2.  3.  3.  3.  2.  3.  4.]\n",
      " [inf inf inf inf  3.  3.  4.  3.  3.  3.  3.]]\n",
      "Le score est:\n",
      "0.16666666666666666\n"
     ]
    }
   ],
   "source": [
    "[C,score_4] = DTW_contrainte_globale(mot2,mot1,1,1,1,4,d_mot)\n",
    "print(\"La matrice du coût est: \")\n",
    "print(C)\n",
    "print(\"Le score est:\")\n",
    "print(score_4)"
   ]
  },
  {
   "cell_type": "markdown",
   "metadata": {
    "colab_type": "text",
    "id": "ySjSQJjUg4g-"
   },
   "source": [
    "# Partie II :  Système de reconnaissance audio de mots de commande\n",
    "\n",
    "Sur l'espace partagé, vous trouverez des enregistrements audio de mots de commandes pour un drone quadricoptère constitués de plusieurs locuteurs masculins (notés M01..M13) et locutrice féminines (F01..F05).\n",
    "\n",
    "Vous pouvez diviser ainsi l'ensemble des données en base d'apprentissage qui serviront de références et base de test pour évaluer la reconnaissance par programmation dynamique."
   ]
  },
  {
   "cell_type": "code",
   "execution_count": 0,
   "metadata": {
    "colab": {},
    "colab_type": "code",
    "id": "Cn789Y2_g4g-"
   },
   "outputs": [],
   "source": [
    "import librosa"
   ]
  },
  {
   "cell_type": "markdown",
   "metadata": {
    "colab_type": "text",
    "id": "L52-paGeg4hB"
   },
   "source": [
    "Les lignes de code suivantes permettent de transformer le fichier audio en matrice de paramètres appélés MFCC (Mel Frequency Cepstral Coefficient) en utilisant la librairie python *librosa*. Ces paramètres permettent d'extraire au mieux le contenu vocal fréquenciel de signal audio.\n",
    "\n",
    "La matrice de sortie est composée d'autant de vecteurs colonnes que de trames d'analyses. Le nombre de lignes correspond à la dimension du vecteur représentatif : ici 12."
   ]
  },
  {
   "cell_type": "markdown",
   "metadata": {
    "colab_type": "text",
    "id": "tEiX6MU6g4hC"
   },
   "source": [
    "**Chargement d'un fichier audio :**"
   ]
  },
  {
   "cell_type": "code",
   "execution_count": 0,
   "metadata": {
    "colab": {},
    "colab_type": "code",
    "id": "S_yyF7I_g4hD"
   },
   "outputs": [],
   "source": [
    "y, sr = librosa.load(\"./M01_arretetoi.wav\")\n"
   ]
  },
  {
   "cell_type": "markdown",
   "metadata": {
    "colab_type": "text",
    "id": "uoHKG8Cbg4hG"
   },
   "source": [
    "**Calcul des MFCC**"
   ]
  },
  {
   "cell_type": "code",
   "execution_count": 233,
   "metadata": {
    "colab": {
     "base_uri": "https://localhost:8080/",
     "height": 34
    },
    "colab_type": "code",
    "id": "a90svHvUg4hG",
    "outputId": "6d0846ff-b5ad-46a0-e664-cd307f27c43f"
   },
   "outputs": [
    {
     "name": "stdout",
     "output_type": "stream",
     "text": [
      "Nb Coeff MFCC x Nb Fenetres : (12, 32)\n"
     ]
    }
   ],
   "source": [
    "mfcc = librosa.feature.mfcc(y=y, sr=sr, hop_length=1024, htk=True, n_mfcc=12)\n",
    "print(\"Nb Coeff MFCC x Nb Fenetres :\",mfcc.shape)\n"
   ]
  },
  {
   "cell_type": "code",
   "execution_count": 0,
   "metadata": {
    "colab": {},
    "colab_type": "code",
    "id": "_o75nX-0cWR9"
   },
   "outputs": [],
   "source": [
    "import os\n",
    "# Cette fonction retourne les mfccs de la base d'apprentissage\n",
    "def mfcc_train_test(path_train, path_test):\n",
    "  files_train = os.listdir(path_train) \n",
    "  files_test = os.listdir(path_test)\n",
    "  matrix_mfcc_train = [] # pour stocker les mfccs de tous les enregistrements audio de la base d'apprentissage.\n",
    "  matrix_mfcc_test = [] # pour stocker les mfccs de tous les enregistrements audio du test.\n",
    "  for file in files_train:\n",
    "    y, sr = librosa.load(\"./\"+path_train+\"/\" + file)\n",
    "    mfcc = librosa.feature.mfcc(y=y, sr=sr, hop_length=1024, htk=True, n_mfcc=12)\n",
    "    matrix_mfcc_train.append(mfcc)\n",
    "\n",
    "  for file in files_test:\n",
    "    y, sr = librosa.load(\"./\"+path_test+\"/\" + file)\n",
    "    mfcc = librosa.feature.mfcc(y=y, sr=sr, hop_length=1024, htk=True, n_mfcc=12)\n",
    "    matrix_mfcc_test.append(mfcc)\n",
    "  return [matrix_mfcc_train, matrix_mfcc_test, files_train, files_test]"
   ]
  },
  {
   "cell_type": "markdown",
   "metadata": {
    "colab_type": "text",
    "id": "CsXOq75pg4hJ"
   },
   "source": [
    "**Application de la DTW**\n",
    "\n",
    "1. Réaliser une étude que vous détaillerez sur un rapport (par exemple, *influence voix masculines VS voix féminines, confronter votre propre voix à la base de données, tester l'impact de différents bruits de fond sur la reconnaissance...*) et créer votre propre base d'apprentissage et votre base de test à partir du corpus et des voix et bruits que vous aurez enregistrés. \n",
    "\n",
    "2. Appliquer la DTW sur vos corpus.\n",
    "\n",
    "**Paramètres pour enregistrements audio de vos voix perso:**\n",
    "\n",
    "16 KHz, mono, 16 bits, format *.wav*"
   ]
  },
  {
   "cell_type": "code",
   "execution_count": 0,
   "metadata": {
    "colab": {},
    "colab_type": "code",
    "id": "1UGXTSOtg4hJ"
   },
   "outputs": [],
   "source": []
  },
  {
   "cell_type": "markdown",
   "metadata": {
    "colab_type": "text",
    "id": "_SSDlllJg4hM"
   },
   "source": [
    "**Evaluation de la reconnaissance**\n",
    "\n",
    "1. Calculer la matrice de confusion du système (en ligne les références et en colonne les sorties du système). \n",
    "Vous pourrez utiliser la fonction *confusion_matrix* de la librairie *sklearn*.\n",
    "\n",
    "\n",
    "2. Calculer le score de reconnaissance : nombre de fichiers bien reconnus sur nombre de fichiers testés. \n",
    "\n",
    "*Vérifications :*\n",
    "-  si vous prenez comme fichier de référence et de test M01, vous devez obtenir aucune erreur.\n",
    "-  si vous prenez comme fichier de reférénce M01 et fichier de test M02, vous devez obtenir deux erreurs."
   ]
  },
  {
   "cell_type": "code",
   "execution_count": 0,
   "metadata": {
    "colab": {},
    "colab_type": "code",
    "id": "kfNSaZztLTK0"
   },
   "outputs": [],
   "source": [
    "# Le premier test consiste à considérer les fichiers M01 non bruités comme fichiers de référence et de test.\n",
    "# Le deuxième test consiste à prendre comme fichier d'apprentissage les fichiers M01 non bruités , et les fichiers du test tous les fichiers M02.\n",
    "# Le test 3 consiste à rendre comme fichiers de référence les \n",
    "\n",
    "#[matrix_mfcc_train, matrix_mfcc_test, files_train, files_test] = mfcc_train_test(\"M01_non_bruite\", \"M01_non_bruite\") # Test 1\n",
    "#[matrix_mfcc_train, matrix_mfcc_test, files_train, files_test] = mfcc_train_test(\"M01_non_bruite\", \"M02_non_bruite\") # Test 2\n",
    "#[matrix_mfcc_train, matrix_mfcc_test, files_train, files_test] = mfcc_train_test(\"M01_non_bruite\", \"F02_non_bruite\") # Test 3\n",
    "#[matrix_mfcc_train, matrix_mfcc_test, files_train, files_test] = mfcc_train_test(\"M01_bruite\", \"M01_bruite\") # Test 4\n",
    "#[matrix_mfcc_train, matrix_mfcc_test, files_train, files_test] = mfcc_train_test(\"M01_bruite\", \"M02_bruite\") # Test 5\n",
    "[matrix_mfcc_train, matrix_mfcc_test, files_train, files_test] = mfcc_train_test(\"M01_non_bruite\", \"Corpus_Hamza\") # Test 5\n",
    "n = len(matrix_mfcc_test) \n",
    "p = len(matrix_mfcc_train)\n",
    "#matrix_score = zeros((p,n))\n",
    "L = []\n",
    "F = []\n",
    "resultats = [] # Pour faire correspondre à chaque enregistrement audio l'enregistrement le plus proche par application de la DTW.\n",
    "for i in range(0,n):\n",
    "  for j in range(0,p):\n",
    "     [u,score] = DTW(np.transpose(matrix_mfcc_test[i]),np.transpose(matrix_mfcc_train[j]),1,1,1,d_vecteur)\n",
    "     #matrix_score[i,j] = score\n",
    "     L.append(score)\n",
    "  F.append(L.index(min(L)))\n",
    "  L = []\n",
    "\n",
    "for k in range(0,len(F)):\n",
    "    resultats.append(files_train[F[k]])\n"
   ]
  },
  {
   "cell_type": "code",
   "execution_count": 315,
   "metadata": {
    "colab": {
     "base_uri": "https://localhost:8080/",
     "height": 70
    },
    "colab_type": "code",
    "id": "DW16Y2GTLWT2",
    "outputId": "5b636f6e-5d85-49e9-ce66-411993b69f7c"
   },
   "outputs": [
    {
     "name": "stdout",
     "output_type": "stream",
     "text": [
      "['M01_etatdurgence.wav', 'M01_recule.wav', 'M01_plushaut.wav', 'M01_plusbas.wav', 'M01_plushaut.wav', 'M01_tournegauche.wav', 'M01_plusbas.wav', 'M01_plushaut.wav', 'M01_plushaut.wav', 'M01_gauche.wav', 'M01_gauche.wav', 'M01_faisunflip.wav', 'M01_plushaut.wav']\n",
      "['H01_etatdurgence.wav', 'H01_arretetoi.wav', 'H01_droite.wav', 'H01_decollage.wav', 'H01_avance.wav', 'H01_tournegauche.wav', 'H01_plusbas.wav', 'H01_tournedroite.wav', 'H01_recule.wav', 'H01_atterrissage.wav', 'H01_gauche.wav', 'H01_faisunflip.wav', 'H01_plus haut.wav']\n"
     ]
    }
   ],
   "source": [
    "print(resultats)\n",
    "print(files_test)"
   ]
  },
  {
   "cell_type": "code",
   "execution_count": 0,
   "metadata": {
    "colab": {},
    "colab_type": "code",
    "id": "tVJyWiTxxUYH"
   },
   "outputs": [],
   "source": [
    "labels = []\n",
    "for x in files_test:\n",
    "  if x[4:] not in labels:\n",
    "    labels.append(x[4:])"
   ]
  },
  {
   "cell_type": "code",
   "execution_count": 317,
   "metadata": {
    "colab": {
     "base_uri": "https://localhost:8080/",
     "height": 537
    },
    "colab_type": "code",
    "id": "oYFprcODMMsr",
    "outputId": "9fe320c2-5b29-4a46-8dda-b5218ecdd70c"
   },
   "outputs": [
    {
     "name": "stdout",
     "output_type": "stream",
     "text": [
      "nombre de fichiers de test\n",
      "13\n",
      "********************************\n",
      "nombre de fichiers reconnues\n",
      "5\n",
      "********************************\n",
      " Le taux de reconnaissance est:\n",
      "0.38461538461538464\n",
      "********************************\n",
      "la matrice de confusion est:\n"
     ]
    },
    {
     "data": {
      "text/plain": [
       "<matplotlib.axes._subplots.AxesSubplot at 0x7f8b5b3a2da0>"
      ]
     },
     "execution_count": 317,
     "metadata": {
      "tags": []
     },
     "output_type": "execute_result"
    },
    {
     "data": {
      "image/png": "[encoded data removed]",
      "text/plain": [
       "<Figure size 432x288 with 2 Axes>"
      ]
     },
     "metadata": {
      "tags": []
     },
     "output_type": "display_data"
    }
   ],
   "source": [
    "# Calculer la matrice de confusion et le taux de reconnaissance\n",
    "import seaborn as sb\n",
    "import pandas as pd\n",
    "from sklearn.metrics import confusion_matrix\n",
    "\n",
    "y_true = []\n",
    "y_pred = []\n",
    "nb_fichiers_reconnus = 0\n",
    "for i in range(len(resultats)):\n",
    "  x = files_test[i][4:]\n",
    "  y = resultats[i][4:]\n",
    "  y_true.append(x)\n",
    "  y_pred.append(y)\n",
    "  if x == y:\n",
    "    nb_fichiers_reconnus+=1 \n",
    "M = confusion_matrix(y_true, y_pred) # La matrice de confusion.\n",
    "taux_reconnaissance = nb_fichiers_reconnus/len(files_test)\n",
    "print(\"nombre de fichiers de test\")\n",
    "print(len(resultats))\n",
    "print(\"********************************\")\n",
    "print(\"nombre de fichiers reconnues\")\n",
    "print(nb_fichiers_reconnus)\n",
    "print(\"********************************\")\n",
    "print(\" Le taux de reconnaissance est:\")\n",
    "print(taux_reconnaissance)\n",
    "print(\"********************************\")\n",
    "print(\"la matrice de confusion est:\")\n",
    "M = pd.DataFrame(confusion_matrix(y_true, y_pred,labels), columns=labels, index=labels)\n",
    "sb.heatmap(M, annot=True)\n",
    "\n",
    "\n",
    " \n"
   ]
  },
  {
   "cell_type": "markdown",
   "metadata": {
    "colab_type": "text",
    "id": "m1nJsIing4hO"
   },
   "source": [
    "## Partie III : Comparaison de la programmation dynamique avec une méthode de classification après prétraitement des données\n",
    "\n",
    "Dans cette partie, nous allons comparer les résultats de la DTW avec ceux d'une méthode de classification de données : les k-plus proches voisins.\n",
    "\n",
    "Nous utiliserons les fonctions permettant de calculer l'ACP et les k-ppv via la librairie python *scikit-learn*.\n",
    "\n",
    "\n"
   ]
  },
  {
   "cell_type": "code",
   "execution_count": 0,
   "metadata": {
    "colab": {},
    "colab_type": "code",
    "id": "QNER7OOWg4hP"
   },
   "outputs": [],
   "source": [
    "from sklearn.preprocessing import StandardScaler\n",
    "from sklearn.neighbors import KNeighborsClassifier\n",
    "from mpl_toolkits.mplot3d import Axes3D"
   ]
  },
  {
   "cell_type": "markdown",
   "metadata": {
    "colab_type": "text",
    "id": "_rmhtaYPg4hR"
   },
   "source": [
    "### Prétraitement par ACP\n",
    "\n",
    "Pour tester une méthode de classification, il faut d'abord réduire la dimension des MFCC\n",
    "\n",
    "1. Pour chaque enregistrement audio, calculez le vecteur de $R^{13}$ égal à la moyenne sur toutes les fenêtres de\n",
    "MFCC. Ainsi chaque enregistrement sera représenté par un seul vecteur de 13 coefficients MFCC.\n",
    "\n",
    "2. A partir de tous les enregistrements de la base d'apprentissage et en utilisant la fonction *PCA* de la librairie *scikit-learn*, calculez les 3 axes principaux de l'ACP en\n",
    "extrayant les 3 vecteurs propres, notés $X_1$, $X_2$, $X_3$, associés aux 3 plus grandes valeurs propres de la matrice de\n",
    "variance-covariance $\\Sigma_{App}$.Ces vecteurs propres consitueront la nouvelle base de données.\n",
    "\n",
    "3. Projetez les données de la base d'apprentissage et de test dans cette nouvelle base en multipliant chaque\n",
    "vecteur par la base $P = [X_1X_2X_3]$.\n",
    "\n",
    "*Remarque :* vous pouvez aussi implémenter l'ACP en\n",
    "extrayant les 3 vecteurs propres, notés $X_1$, $X_2$, $X_3$, associés aux 3 plus grandes valeurs propres de la matrice de\n",
    "variance-covariance $\\Sigma_{App}$ (par les fonctions *np.cov* et *np.linalg.eig*). Ces vecteurs propres constitueront le nouveau repère $P$.  Projetez ensuite les données de la base d'apprentissage et de test dans cette nouvelle base en multipliant chaque vecteur par la base $P = [X_1X_2X_3]$.\n",
    "\n",
    "\n"
   ]
  },
  {
   "cell_type": "code",
   "execution_count": 0,
   "metadata": {
    "colab": {},
    "colab_type": "code",
    "id": "mz32ac3ig4hS"
   },
   "outputs": [],
   "source": [
    "# Application de l'ACP\n",
    "from sklearn.decomposition import PCA\n",
    "from sklearn import preprocessing\n",
    "\n",
    "mfcc_train_vectorized =[] # pour représenter chaque enregistrement audio de la base d'apprentissage par un vecteur R13\n",
    "mfcc_test_vectorized = [] # Pour représenter les enregistrement audio de test par un vecteur R13\n",
    "\n",
    "for elt in matrix_mfcc_train:\n",
    "  mfcc_train_vectorized.append(elt.mean(1))\n",
    "\n",
    "for elt in matrix_mfcc_test:\n",
    "  mfcc_test_vectorized.append(elt.mean(1))\n",
    "\n",
    "# les dimensions des matrices\n",
    "[n_train, p_train] = np.array(mfcc_train_vectorized).shape\n",
    "[n_test, p_test] = np.array(mfcc_test_vectorized).shape\n",
    "\n",
    "data = np.concatenate((np.array(mfcc_train_vectorized), np.array(mfcc_test_vectorized)), axis=0)\n",
    "\n",
    "std_scale = preprocessing.StandardScaler().fit(data)\n",
    "data_scaled = std_scale.transform(data)\n",
    "\n",
    "X_train = data_scaled[0:n_train,:]\n",
    "X_test = data_scaled[n_train:,:] \n",
    "\n",
    "pca = PCA(n_components=3, svd_solver='full')\n",
    "pca.fit(X_train)\n",
    "[X1,X2,X3] = pca.components_ # Les 3 vecteurs principaux;\n",
    "X_train_projected = pca.transform(X_train)\n",
    "\n",
    "X_test_projected = pca.transform(X_test)\n",
    "\n",
    "\n"
   ]
  },
  {
   "cell_type": "markdown",
   "metadata": {
    "colab_type": "text",
    "id": "ayWE9fyWg4hU"
   },
   "source": [
    "### Classification par $k$ plus proches voisins\n",
    "\n",
    "En intelligence artificielle, la méthode des $k$ plus proches voisins (k-ppv) est une méthode d'apprentissage\n",
    "supervisé. Dans ce cadre, on dispose d'une base de données d'apprentissage constituée de couples  \"donnée-label\". Pour estimer la sortie associée à une nouvelle entrée $x$, la méthode des $k$ plus proches voisins consiste à prendre\n",
    "en compte (de façon identique) les $k$ échantillons d'apprentissage dont l'entrée est la plus proche de la nouvelle\n",
    "entrée $x$, selon une distance à définir. L'algorithme 1 associé et un exemple sont donnés par la suite.\n",
    "\n",
    "<img src=\"files/AlgoKppv.png\" width=\"900\" height=\"800\"  >\n",
    "\n",
    "<img src=\"files/kppv.png\" width=\"300\" height=\"300\"  >\n",
    "\n",
    "**Exemple de classification par $k$-ppv.** L'échantillon de test (cercle vert) doit être classé soit dans la première\n",
    "classe des carrés bleus, soit dans la deuxième classe des triangles rouges. \n",
    "Si $k = 3$ (cercle plein), il est assigné à la deuxième classe parce qu'il y a 2 triangles et seulement 1 carré à l'intérieur du cercle intérieur. \n",
    "Si $k = 5$ (cercle en pointillés), il est assigné à la première classe (3 carrés contre 2 triangles à l'intérieur du cercle extérieur)\n",
    "\n",
    "\n",
    "1. En utilisant la fonction *KNeighborsClassifier* de la librairie *sklearn.neighbors*, réalisez une classification par k-ppv sur la base d'apprentissage et la base de test que vous avez prédéfinies (prendre $k=1$).\n",
    "\n",
    "2. Evaluez la méthode des k-ppv par le calcul de la matrice de confusion et du taux de reconnaissance.\n",
    "\n",
    "3. Modifiez la valeur de $k$ pour les k-ppv. Améliorez-vous les scores de reconnaissance ?\n",
    "\n",
    "4. Comparez vos résultats avec ceux de la DTW.\n",
    "\n",
    "5. Rédigez un rapport sur votre étude, vos résultats et vos commentaires/conclusions.\n",
    "\n",
    "\n"
   ]
  },
  {
   "cell_type": "code",
   "execution_count": 0,
   "metadata": {
    "colab": {},
    "colab_type": "code",
    "id": "qJFrdUjSg4hV"
   },
   "outputs": [],
   "source": [
    "# On applique l'algorithme de k plus proche voisin pour k = 1\n",
    "# Le model\n",
    "knn=KNeighborsClassifier(n_neighbors=1)\n",
    "#Les labels\n",
    "labels = []\n",
    "for i in range(0,len(files_train)):\n",
    "  labels.append(files_train[i][4:])\n",
    "\n",
    "#On entraîne le modèle :\n",
    "knn.fit(X_train_projected, labels)\n",
    "# On fait la prédiction\n",
    "pred_test=knn.predict(X_test_projected)\n",
    "prediction = []\n",
    "for j in range(0,len(pred_test)):\n",
    "  prediction.append(pred_test[j])"
   ]
  },
  {
   "cell_type": "code",
   "execution_count": 269,
   "metadata": {
    "colab": {
     "base_uri": "https://localhost:8080/",
     "height": 70
    },
    "colab_type": "code",
    "id": "2nc_lwnGRJ5n",
    "outputId": "6804bd19-6e5e-4f88-8339-6be6dd1f419c"
   },
   "outputs": [
    {
     "name": "stdout",
     "output_type": "stream",
     "text": [
      "['arretetoi.wav', 'decollage.wav', 'tournegauche.wav', 'droite.wav', 'plusbas.wav', 'faisunflip.wav', 'etatdurgence.wav', 'tournedroite.wav', 'gauche.wav', 'plushaut.wav', 'recule.wav', 'atterrissage.wav', 'avance.wav']\n",
      "['arretetoi.wav', 'decollage.wav', 'tournegauche.wav', 'droite.wav', 'plusbas.wav', 'faisunflip.wav', 'etatdurgence.wav', 'tournedroite.wav', 'gauche.wav', 'plushaut.wav', 'recule.wav', 'atterrissage.wav', 'avance.wav']\n"
     ]
    }
   ],
   "source": [
    "#print(labels)\n",
    "print(y_true)\n",
    "print(prediction)"
   ]
  },
  {
   "cell_type": "code",
   "execution_count": 270,
   "metadata": {
    "colab": {
     "base_uri": "https://localhost:8080/",
     "height": 235
    },
    "colab_type": "code",
    "id": "Yd6IQafhw-cj",
    "outputId": "1ee5bb51-1cea-43de-a0c8-d29a9bf1bc84"
   },
   "outputs": [
    {
     "name": "stdout",
     "output_type": "stream",
     "text": [
      "[[1 0 0 0 0 0 0 0 0 0 0 0 0]\n",
      " [0 1 0 0 0 0 0 0 0 0 0 0 0]\n",
      " [0 0 1 0 0 0 0 0 0 0 0 0 0]\n",
      " [0 0 0 1 0 0 0 0 0 0 0 0 0]\n",
      " [0 0 0 0 1 0 0 0 0 0 0 0 0]\n",
      " [0 0 0 0 0 1 0 0 0 0 0 0 0]\n",
      " [0 0 0 0 0 0 1 0 0 0 0 0 0]\n",
      " [0 0 0 0 0 0 0 1 0 0 0 0 0]\n",
      " [0 0 0 0 0 0 0 0 1 0 0 0 0]\n",
      " [0 0 0 0 0 0 0 0 0 1 0 0 0]\n",
      " [0 0 0 0 0 0 0 0 0 0 1 0 0]\n",
      " [0 0 0 0 0 0 0 0 0 0 0 1 0]\n",
      " [0 0 0 0 0 0 0 0 0 0 0 0 1]]\n"
     ]
    }
   ],
   "source": [
    "c = confusion_matrix(y_true,prediction)\n",
    "print(c)"
   ]
  },
  {
   "cell_type": "code",
   "execution_count": 0,
   "metadata": {
    "colab": {},
    "colab_type": "code",
    "id": "CV1d6cvbxEd0"
   },
   "outputs": [],
   "source": [
    "from numpy import matrix\n",
    "score = matrix.trace(c)/len(c)"
   ]
  },
  {
   "cell_type": "code",
   "execution_count": 272,
   "metadata": {
    "colab": {
     "base_uri": "https://localhost:8080/",
     "height": 34
    },
    "colab_type": "code",
    "id": "HFq_haIcxIPC",
    "outputId": "84b29efe-4aeb-4a30-fd22-c0ff68e026d7"
   },
   "outputs": [
    {
     "data": {
      "text/plain": [
       "1.0"
      ]
     },
     "execution_count": 272,
     "metadata": {
      "tags": []
     },
     "output_type": "execute_result"
    }
   ],
   "source": [
    "score"
   ]
  },
  {
   "cell_type": "code",
   "execution_count": 0,
   "metadata": {
    "colab": {},
    "colab_type": "code",
    "id": "efEdpyEuxI2q"
   },
   "outputs": [],
   "source": []
  }
 ],
 "metadata": {
  "colab": {
   "collapsed_sections": [],
   "name": "ADC_TP1_3.ipynb",
   "provenance": [],
   "toc_visible": true
  },
  "kernelspec": {
   "display_name": "Python 3",
   "language": "python",
   "name": "python3"
  },
  "language_info": {
   "codemirror_mode": {
    "name": "ipython",
    "version": 3
   },
   "file_extension": ".py",
   "mimetype": "text/x-python",
   "name": "python",
   "nbconvert_exporter": "python",
   "pygments_lexer": "ipython3",
   "version": "3.7.4"
  }
 },
 "nbformat": 4,
 "nbformat_minor": 1
}
